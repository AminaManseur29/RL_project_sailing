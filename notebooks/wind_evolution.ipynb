{
 "cells": [
  {
   "cell_type": "markdown",
   "metadata": {},
   "source": [
    "# Wind Evolution Analysis\n",
    "\n",
    "This notebook analyzes the wind evolution system in our sailing environment. We'll explore:\n",
    "1. How wind patterns evolve over time\n",
    "2. The consistency of wind evolution with the same seed\n",
    "3. The variability of wind evolution with different seeds\n",
    "4. The different training and test scenarios\n",
    "\n",
    "The analysis will help us understand and validate the wind system before implementing sailing agents."
   ]
  },
  {
   "cell_type": "markdown",
   "metadata": {},
   "source": [
    "## Setup\n",
    "First, let's import the necessary modules and set up our environment."
   ]
  },
  {
   "cell_type": "code",
   "execution_count": 1,
   "metadata": {},
   "outputs": [],
   "source": [
    "import sys\n",
    "import os\n",
    "import numpy as np\n",
    "import matplotlib.pyplot as plt\n",
    "from IPython.display import display\n",
    "\n",
    "# Add the src directory to the path\n",
    "sys.path.append(os.path.abspath('../src'))\n",
    "sys.path.append(os.path.abspath('..'))\n",
    "\n",
    "# Import the environment and evaluation modules\n",
    "from src.env_sailing import SailingEnv\n",
    "from src.evaluation import evaluate_agent, visualize_trajectory\n",
    "from src.agents.agent_smart import AgentSmart\n",
    "from src.agents.base_agent import BaseAgent\n",
    "\n",
    "# Add this line with the other imports at the top of the notebook\n",
    "from scenarios import get_scenario, SCENARIOS"
   ]
  },
  {
   "cell_type": "markdown",
   "metadata": {},
   "source": [
    "## Static Agent\n",
    "To focus on wind visualization without the complexity of agent movement, we'll create a `StaticAgent` that stays in place. This agent will help us observe how the wind evolves around a fixed point."
   ]
  },
  {
   "cell_type": "code",
   "execution_count": 2,
   "metadata": {},
   "outputs": [],
   "source": [
    "# Create static agent (needs to inherit from BaseAgent now)\n",
    "class StaticAgent(BaseAgent):\n",
    "    \"\"\"Agent that stays in place to help visualize wind evolution.\"\"\"\n",
    "    \n",
    "    def act(self, observation: np.ndarray) -> int:\n",
    "        return 8  # The \"stay in place\" action"
   ]
  },
  {
   "cell_type": "markdown",
   "metadata": {},
   "source": [
    "## Wind Evolution Parameters\n",
    "We'll define parameters for both wind initialization and evolution. These parameters control:\n",
    "- Base wind speed and direction\n",
    "- Spatial patterns and variations\n",
    "- Evolution characteristics (change probability, perturbations)\n",
    "- Directional bias in evolution"
   ]
  },
  {
   "cell_type": "code",
   "execution_count": 3,
   "metadata": {},
   "outputs": [],
   "source": [
    "# Define a scenario for wind evolution analysis\n",
    "scenario = {\n",
    "    'wind_init_params': {\n",
    "        'base_speed': 4.0,\n",
    "        'base_direction': (0.65, -0.75),  # More northern-oriented\n",
    "        'pattern_scale': 32,         # Scale of the anticyclonic pattern\n",
    "        'pattern_strength': 0.4,     # Wind direction variation\n",
    "        'strength_variation': 0.5,   # Wind strength variation\n",
    "        'noise': 0.1                 # Stochastic component\n",
    "    },\n",
    "    'wind_evol_params': {\n",
    "        'wind_change_prob': 1,     # 10% chance of wind change each step\n",
    "        'pattern_scale': 128,        # Scale of evolution pattern\n",
    "        'perturbation_angle_amplitude': 0.2,  # Amplitude of wind direction changes\n",
    "        'perturbation_strength_amplitude': 0.2,  # Amplitude of wind speed changes\n",
    "        'wind_evolution_bias': (-1, 0.0),  # No bias by default\n",
    "        'bias_strength': 0.2        # How strongly to apply any bias\n",
    "    },\n",
    "    'env_params': {\n",
    "        'wind_grid_density': 25,    # Fewer arrows = clearer visualization\n",
    "        'wind_arrow_scale': 80      # Larger value = smaller arrows\n",
    "    }\n",
    "}"
   ]
  },
  {
   "cell_type": "markdown",
   "metadata": {},
   "source": [
    "## Wind Evolution Analysis\n",
    "Let's analyze wind evolution with different seeds to understand:\n",
    "1. The stochastic nature of wind changes\n",
    "2. How different seeds produce different patterns\n",
    "3. The impact of evolution parameters on wind behavior"
   ]
  },
  {
   "cell_type": "code",
   "execution_count": 4,
   "metadata": {},
   "outputs": [
    {
     "name": "stdout",
     "output_type": "stream",
     "text": [
      "Environment 1 (seed=40):\n"
     ]
    },
    {
     "name": "stderr",
     "output_type": "stream",
     "text": [
      "/Users/t.rahier/code_project_v0/Sailing_project_v1/src/env_sailing.py:537: RuntimeWarning: invalid value encountered in divide\n",
      "  direction_normalized = direction / np.linalg.norm(direction)\n"
     ]
    },
    {
     "data": {
      "application/vnd.jupyter.widget-view+json": {
       "model_id": "6801e623217e45639b374c074608f179",
       "version_major": 2,
       "version_minor": 0
      },
      "text/plain": [
       "interactive(children=(IntSlider(value=0, description='Step:', max=99), Output()), _dom_classes=('widget-intera…"
      ]
     },
     "metadata": {},
     "output_type": "display_data"
    },
    {
     "name": "stdout",
     "output_type": "stream",
     "text": [
      "\n",
      "Environment 2 (seed=43):\n"
     ]
    },
    {
     "data": {
      "application/vnd.jupyter.widget-view+json": {
       "model_id": "0ebfc286412d4ccfaee8c24548d894b6",
       "version_major": 2,
       "version_minor": 0
      },
      "text/plain": [
       "interactive(children=(IntSlider(value=0, description='Step:', max=99), Output()), _dom_classes=('widget-intera…"
      ]
     },
     "metadata": {},
     "output_type": "display_data"
    },
    {
     "name": "stdout",
     "output_type": "stream",
     "text": [
      "\n",
      "Environment 3 (seed=44):\n"
     ]
    },
    {
     "data": {
      "application/vnd.jupyter.widget-view+json": {
       "model_id": "8186b3a03cb74486a31a3927d3eb6fbf",
       "version_major": 2,
       "version_minor": 0
      },
      "text/plain": [
       "interactive(children=(IntSlider(value=0, description='Step:', max=99), Output()), _dom_classes=('widget-intera…"
      ]
     },
     "metadata": {},
     "output_type": "display_data"
    }
   ],
   "source": [
    "# Create static agent instance\n",
    "static_agent = StaticAgent()\n",
    "\n",
    "# Evaluate with different seeds, with rendering enabled\n",
    "print(\"Environment 1 (seed=40):\")\n",
    "results1 = evaluate_agent(\n",
    "    agent=static_agent,\n",
    "    scenario=scenario,\n",
    "    seeds=40,\n",
    "    max_horizon=100,\n",
    "    verbose=False,\n",
    "    render=True,\n",
    "    full_trajectory=True  # Enable full trajectory for visualization\n",
    ")\n",
    "visualize_trajectory(results1, None, with_slider=True)\n",
    "\n",
    "print(\"\\nEnvironment 2 (seed=43):\")\n",
    "results2 = evaluate_agent(\n",
    "    agent=static_agent,\n",
    "    scenario=scenario,\n",
    "    seeds=43,\n",
    "    max_horizon=100,\n",
    "    verbose=False,\n",
    "    render=True,\n",
    "    full_trajectory=True\n",
    ")\n",
    "visualize_trajectory(results2, None, with_slider=True)\n",
    "\n",
    "print(\"\\nEnvironment 3 (seed=44):\")\n",
    "results3 = evaluate_agent(\n",
    "    agent=static_agent,\n",
    "    scenario=scenario,\n",
    "    seeds=44,\n",
    "    max_horizon=100,\n",
    "    verbose=False,\n",
    "    render=True,\n",
    "    full_trajectory=True\n",
    ")\n",
    "visualize_trajectory(results3, None, with_slider=True)"
   ]
  },
  {
   "cell_type": "markdown",
   "metadata": {},
   "source": [
    "## Training and Test Scenarios Visualization\n",
    "\n",
    "Now that we understand how wind evolution works, let's examine the predefined scenarios that will be used for training and testing agents. We have:\n",
    "\n",
    "1. **Training Scenarios**:\n",
    "   - `training_1`: Clockwise rotating wind with eastward bias\n",
    "   - `training_2`: Counter-clockwise rotation with westward bias\n",
    "   - `training_3`: North-South oscillating wind pattern\n",
    "\n",
    "2. **Test Scenarios**: (WILL BE KEPT PRIVATE TO THE STUDENTS)\n",
    "   - `test`: Complex scenario combining elements from training scenarios\n",
    "\n",
    "For each scenario, we'll use our `StaticAgent` to visualize:\n",
    "- The initial wind pattern\n",
    "- How the wind evolves over time\n",
    "- The effect of the scenario's specific parameters (bias, strength, evolution probability)\n",
    "\n",
    "This will help us understand what challenges each scenario presents to the agents and validate that they provide a good progression from training to testing."
   ]
  },
  {
   "cell_type": "code",
   "execution_count": 6,
   "metadata": {},
   "outputs": [
    {
     "name": "stdout",
     "output_type": "stream",
     "text": [
      "# Training Scenarios Comparison\n",
      "\n",
      "Comparing the three training scenarios with the same seed to understand their distinct characteristics.\n",
      "\n",
      "## Training Scenario 1: Clockwise Rotating Wind\n",
      "\n",
      "Key characteristics:\n",
      "- Base wind: speed=4.0, direction=(-0.65, -0.75)\n",
      "- Pattern strength: 0.30\n",
      "- Evolution probability: 1.00\n",
      "- Evolution bias: (1, 0.0)\n",
      "- Bias strength: 0.20\n",
      "\n",
      "This scenario features a clockwise rotating wind pattern, challenging the agent to adapt to systematic directional changes.\n"
     ]
    },
    {
     "data": {
      "application/vnd.jupyter.widget-view+json": {
       "model_id": "0e18c704c2904cd4a8d50b814a8edf8b",
       "version_major": 2,
       "version_minor": 0
      },
      "text/plain": [
       "interactive(children=(IntSlider(value=0, description='Step:', max=99), Output()), _dom_classes=('widget-intera…"
      ]
     },
     "metadata": {},
     "output_type": "display_data"
    },
    {
     "name": "stdout",
     "output_type": "stream",
     "text": [
      "\n",
      "## Training Scenario 2: Counter-Clockwise Rotation\n",
      "\n",
      "Key characteristics:\n",
      "- Base wind: speed=4.0, direction=(0.65, -0.75)\n",
      "- Pattern strength: 0.40\n",
      "- Evolution probability: 1.00\n",
      "- Evolution bias: (-1, 0.0)\n",
      "- Bias strength: 0.20\n",
      "\n",
      "This scenario presents a counter-clockwise rotating wind pattern, offering a different directional challenge from Scenario 1.\n"
     ]
    },
    {
     "data": {
      "application/vnd.jupyter.widget-view+json": {
       "model_id": "b419148aa749442c8bfbae61310ac25e",
       "version_major": 2,
       "version_minor": 0
      },
      "text/plain": [
       "interactive(children=(IntSlider(value=0, description='Step:', max=99), Output()), _dom_classes=('widget-intera…"
      ]
     },
     "metadata": {},
     "output_type": "display_data"
    },
    {
     "name": "stdout",
     "output_type": "stream",
     "text": [
      "\n",
      "## Training Scenario 3: Oscillating Wind\n",
      "\n",
      "Key characteristics:\n",
      "- Base wind: speed=4.0, direction=(0.0, -1.0)\n",
      "- Pattern strength: 0.30\n",
      "- Evolution probability: 0.80\n",
      "- Evolution bias: (0.0, 0.0)\n",
      "- Bias strength: 0.00\n",
      "\n",
      "This scenario features an oscillating wind pattern, where the wind direction periodically shifts back and forth.\n"
     ]
    },
    {
     "data": {
      "application/vnd.jupyter.widget-view+json": {
       "model_id": "93da0cba59724e289c9418dccd2335f2",
       "version_major": 2,
       "version_minor": 0
      },
      "text/plain": [
       "interactive(children=(IntSlider(value=0, description='Step:', max=99), Output()), _dom_classes=('widget-intera…"
      ]
     },
     "metadata": {},
     "output_type": "display_data"
    },
    {
     "name": "stdout",
     "output_type": "stream",
     "text": [
      "\n",
      "## Test Scenario: Complex Evolution\n",
      "\n",
      "Key characteristics:\n",
      "- Base wind: speed=4.0, direction=(-0.3, -0.95)\n",
      "- Pattern strength: 0.35\n",
      "- Evolution probability: 0.90\n",
      "- Evolution bias: (0.5, 0.0)\n",
      "- Bias strength: 0.15\n",
      "\n",
      "This test scenario combines various wind patterns and evolution characteristics, testing the agent's ability to handle complex, unpredictable wind conditions.\n"
     ]
    },
    {
     "data": {
      "application/vnd.jupyter.widget-view+json": {
       "model_id": "3e12bac9449746b1a11aa025dc611593",
       "version_major": 2,
       "version_minor": 0
      },
      "text/plain": [
       "interactive(children=(IntSlider(value=0, description='Step:', max=99), Output()), _dom_classes=('widget-intera…"
      ]
     },
     "metadata": {},
     "output_type": "display_data"
    }
   ],
   "source": [
    "# Visualize training scenarios with consistent seed\n",
    "print(\"# Training Scenarios Comparison\\n\")\n",
    "print(\"Comparing the three training scenarios with the same seed to understand their distinct characteristics.\\n\")\n",
    "\n",
    "# Set evaluation parameters\n",
    "eval_params = {\n",
    "    'max_horizon': 100,\n",
    "    'verbose': False,\n",
    "    'render': True,\n",
    "    'full_trajectory': True\n",
    "}\n",
    "\n",
    "# Set visualization parameters to add to scenarios\n",
    "viz_params = {\n",
    "    'env_params': {\n",
    "        'wind_grid_density': 25,    # Fewer arrows = clearer visualization\n",
    "        'wind_arrow_scale': 80      # Larger value = smaller arrows\n",
    "    }\n",
    "}\n",
    "\n",
    "# Create static agent\n",
    "static_agent = StaticAgent()\n",
    "\n",
    "# Evaluate each training scenario\n",
    "print(\"## Training Scenario 1: Clockwise Rotating Wind\")\n",
    "scenario1 = get_scenario('training_1')\n",
    "print(\"\\nKey characteristics:\")\n",
    "print(f\"- Base wind: speed={scenario1['wind_init_params']['base_speed']:.1f}, \"\n",
    "      f\"direction={scenario1['wind_init_params']['base_direction']}\")\n",
    "print(f\"- Pattern strength: {scenario1['wind_init_params']['pattern_strength']:.2f}\")\n",
    "print(f\"- Evolution probability: {scenario1['wind_evol_params']['wind_change_prob']:.2f}\")\n",
    "print(f\"- Evolution bias: {scenario1['wind_evol_params']['wind_evolution_bias']}\")\n",
    "print(f\"- Bias strength: {scenario1['wind_evol_params']['bias_strength']:.2f}\")\n",
    "print(\"\\nThis scenario features a clockwise rotating wind pattern, challenging the agent to adapt to systematic directional changes.\")\n",
    "\n",
    "scenario1.update(viz_params)  # Add visualization parameters\n",
    "results1 = evaluate_agent(\n",
    "    agent=static_agent,\n",
    "    scenario=scenario1,\n",
    "    seeds=42,\n",
    "    **eval_params\n",
    ")\n",
    "visualize_trajectory(results1, None, with_slider=True)\n",
    "\n",
    "print(\"\\n## Training Scenario 2: Counter-Clockwise Rotation\")\n",
    "scenario2 = get_scenario('training_2')\n",
    "print(\"\\nKey characteristics:\")\n",
    "print(f\"- Base wind: speed={scenario2['wind_init_params']['base_speed']:.1f}, \"\n",
    "      f\"direction={scenario2['wind_init_params']['base_direction']}\")\n",
    "print(f\"- Pattern strength: {scenario2['wind_init_params']['pattern_strength']:.2f}\")\n",
    "print(f\"- Evolution probability: {scenario2['wind_evol_params']['wind_change_prob']:.2f}\")\n",
    "print(f\"- Evolution bias: {scenario2['wind_evol_params']['wind_evolution_bias']}\")\n",
    "print(f\"- Bias strength: {scenario2['wind_evol_params']['bias_strength']:.2f}\")\n",
    "print(\"\\nThis scenario presents a counter-clockwise rotating wind pattern, offering a different directional challenge from Scenario 1.\")\n",
    "\n",
    "scenario2.update(viz_params)\n",
    "results2 = evaluate_agent(\n",
    "    agent=static_agent,\n",
    "    scenario=scenario2,\n",
    "    seeds=42,\n",
    "    **eval_params\n",
    ")\n",
    "visualize_trajectory(results2, None, with_slider=True)\n",
    "\n",
    "print(\"\\n## Training Scenario 3: Oscillating Wind\")\n",
    "scenario3 = get_scenario('training_3')\n",
    "print(\"\\nKey characteristics:\")\n",
    "print(f\"- Base wind: speed={scenario3['wind_init_params']['base_speed']:.1f}, \"\n",
    "      f\"direction={scenario3['wind_init_params']['base_direction']}\")\n",
    "print(f\"- Pattern strength: {scenario3['wind_init_params']['pattern_strength']:.2f}\")\n",
    "print(f\"- Evolution probability: {scenario3['wind_evol_params']['wind_change_prob']:.2f}\")\n",
    "print(f\"- Evolution bias: {scenario3['wind_evol_params']['wind_evolution_bias']}\")\n",
    "print(f\"- Bias strength: {scenario3['wind_evol_params']['bias_strength']:.2f}\")\n",
    "print(\"\\nThis scenario features an oscillating wind pattern, where the wind direction periodically shifts back and forth.\")\n",
    "\n",
    "scenario3.update(viz_params)\n",
    "results3 = evaluate_agent(\n",
    "    agent=static_agent,\n",
    "    scenario=scenario3,\n",
    "    seeds=42,\n",
    "    **eval_params\n",
    ")\n",
    "visualize_trajectory(results3, None, with_slider=True)\n",
    "\n",
    "print(\"\\n## Test Scenario: Complex Evolution\")\n",
    "scenario_test = get_scenario('test')\n",
    "print(\"\\nKey characteristics:\")\n",
    "print(f\"- Base wind: speed={scenario_test['wind_init_params']['base_speed']:.1f}, \"\n",
    "      f\"direction={scenario_test['wind_init_params']['base_direction']}\")\n",
    "print(f\"- Pattern strength: {scenario_test['wind_init_params']['pattern_strength']:.2f}\")\n",
    "print(f\"- Evolution probability: {scenario_test['wind_evol_params']['wind_change_prob']:.2f}\")\n",
    "print(f\"- Evolution bias: {scenario_test['wind_evol_params']['wind_evolution_bias']}\")\n",
    "print(f\"- Bias strength: {scenario_test['wind_evol_params']['bias_strength']:.2f}\")\n",
    "print(\"\\nThis test scenario combines various wind patterns and evolution characteristics, testing the agent's ability to handle complex, unpredictable wind conditions.\")\n",
    "\n",
    "scenario_test.update(viz_params)\n",
    "results_test = evaluate_agent(\n",
    "    agent=static_agent,\n",
    "    scenario=scenario_test,\n",
    "    seeds=42,\n",
    "    **eval_params\n",
    ")\n",
    "visualize_trajectory(results_test, None, with_slider=True)"
   ]
  },
  {
   "cell_type": "markdown",
   "metadata": {},
   "source": []
  }
 ],
 "metadata": {
  "kernelspec": {
   "display_name": "Python 3",
   "language": "python",
   "name": "python3"
  },
  "language_info": {
   "codemirror_mode": {
    "name": "ipython",
    "version": 3
   },
   "file_extension": ".py",
   "mimetype": "text/x-python",
   "name": "python",
   "nbconvert_exporter": "python",
   "pygments_lexer": "ipython3",
   "version": "3.9.6"
  }
 },
 "nbformat": 4,
 "nbformat_minor": 2
}
