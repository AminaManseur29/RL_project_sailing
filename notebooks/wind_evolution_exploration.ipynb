{
 "cells": [
  {
   "cell_type": "markdown",
   "metadata": {},
   "source": [
    "# Wind Evolution Exploration\n",
    "\n",
    "This notebook explores how wind patterns evolve in the sailing environment. We'll focus on:\n",
    "\n",
    "1. Visualizing wind changes over time\n",
    "2. Comparing different wind scenarios\n",
    "3. Understanding the parameters that control wind evolution\n",
    "4. Creating our own customized wind patterns"
   ]
  },
  {
   "cell_type": "markdown",
   "metadata": {},
   "source": [
    "## Setup and Imports\n",
    "\n",
    "First, let's import the necessary modules and add the source directory to our path."
   ]
  },
  {
   "cell_type": "code",
   "execution_count": 2,
   "metadata": {},
   "outputs": [],
   "source": [
    "import sys\n",
    "import os\n",
    "import numpy as np\n",
    "import matplotlib.pyplot as plt\n",
    "from IPython.display import display\n",
    "\n",
    "# Add the src directory to the path\n",
    "sys.path.append(os.path.abspath('../src'))\n",
    "sys.path.append(os.path.abspath('..'))\n",
    "\n",
    "# Import environment and evaluation modules\n",
    "from src.env_sailing import SailingEnv\n",
    "from src.evaluation import evaluate_agent, visualize_trajectory\n",
    "from src.agents.base_agent import BaseAgent\n",
    "from scenarios import get_scenario, SCENARIOS\n",
    "\n",
    "# Set a fixed seed for reproducibility\n",
    "FIXED_SEED = 42"
   ]
  },
  {
   "cell_type": "markdown",
   "metadata": {},
   "source": [
    "## Static Agent\n",
    "\n",
    "To focus solely on the wind evolution, we'll create a static agent that stays in place.\n",
    "This way, we can observe how the wind changes around a fixed point without the added complexity of boat movement."
   ]
  },
  {
   "cell_type": "code",
   "execution_count": 3,
   "metadata": {},
   "outputs": [],
   "source": [
    "class StaticAgent(BaseAgent):\n",
    "    \"\"\"Agent that stays in place to help visualize wind evolution.\"\"\"\n",
    "    \n",
    "    def act(self, observation: np.ndarray) -> int:\n",
    "        return 8  # The \"stay in place\" action (8 = don't move)\n",
    "\n",
    "# Create an instance of our static agent\n",
    "static_agent = StaticAgent()"
   ]
  },
  {
   "cell_type": "markdown",
   "metadata": {},
   "source": [
    "## Predefined Training Scenarios\n",
    "\n",
    "Let's explore the three main training scenarios to understand how wind evolves differently in each one:\n",
    "\n",
    "1. **Scenario 1**: Clockwise rotating wind (eastward bias)\n",
    "2. **Scenario 2**: Counter-clockwise rotating wind (westward bias)\n",
    "3. **Scenario 3**: Oscillating wind pattern (north-south)\n",
    "\n",
    "For each scenario, we'll run a 100-step simulation with our static agent and visualize how the wind patterns change."
   ]
  },
  {
   "cell_type": "code",
   "execution_count": 4,
   "metadata": {},
   "outputs": [
    {
     "name": "stdout",
     "output_type": "stream",
     "text": [
      "# Scenario 1: Clockwise Rotating Wind\n",
      "\n",
      "Key wind parameters:\n",
      "- Base direction: (-0.65, -0.75)\n",
      "- Evolution bias: (1, 0.0)\n",
      "- Change probability: 1\n",
      "- Perturbation amplitude: 0.2\n"
     ]
    },
    {
     "name": "stderr",
     "output_type": "stream",
     "text": [
      "/Users/t.rahier/Desktop/code/RL_project_ENSAE/src/env_sailing.py:527: RuntimeWarning: invalid value encountered in divide\n",
      "  direction_normalized = direction / np.linalg.norm(direction)\n"
     ]
    },
    {
     "data": {
      "application/vnd.jupyter.widget-view+json": {
       "model_id": "46bfeaae59314279a31a314504fd05e4",
       "version_major": 2,
       "version_minor": 0
      },
      "text/plain": [
       "interactive(children=(IntSlider(value=0, description='Step:', max=99), Output()), _dom_classes=('widget-intera…"
      ]
     },
     "metadata": {},
     "output_type": "display_data"
    }
   ],
   "source": [
    "# Common evaluation parameters\n",
    "eval_params = {\n",
    "    'max_horizon': 100,  # Number of steps to simulate\n",
    "    'verbose': False,\n",
    "    'render': True,\n",
    "    'full_trajectory': True  # Keep full trajectory for visualization\n",
    "}\n",
    "\n",
    "# Visualization parameters to add to scenarios\n",
    "viz_params = {\n",
    "    'env_params': {\n",
    "        'wind_grid_density': 25,  # Fewer arrows = clearer visualization\n",
    "        'wind_arrow_scale': 80    # Larger value = smaller arrows\n",
    "    }\n",
    "}\n",
    "\n",
    "# Explore the first scenario: Clockwise rotating wind\n",
    "print(\"# Scenario 1: Clockwise Rotating Wind\\n\")\n",
    "scenario1 = get_scenario('training_1')\n",
    "scenario1.update(viz_params)\n",
    "\n",
    "# Display key wind parameters\n",
    "print(\"Key wind parameters:\")\n",
    "print(f\"- Base direction: {scenario1['wind_init_params']['base_direction']}\")\n",
    "print(f\"- Evolution bias: {scenario1['wind_evol_params']['wind_evolution_bias']}\")\n",
    "print(f\"- Change probability: {scenario1['wind_evol_params']['wind_change_prob']}\")\n",
    "print(f\"- Perturbation amplitude: {scenario1['wind_evol_params']['perturbation_angle_amplitude']}\")\n",
    "\n",
    "# Run simulation\n",
    "results1 = evaluate_agent(\n",
    "    agent=static_agent,\n",
    "    scenario=scenario1,\n",
    "    seeds=FIXED_SEED,\n",
    "    **eval_params\n",
    ")\n",
    "visualize_trajectory(results1, None, with_slider=True)"
   ]
  },
  {
   "cell_type": "code",
   "execution_count": 5,
   "metadata": {},
   "outputs": [
    {
     "name": "stdout",
     "output_type": "stream",
     "text": [
      "# Scenario 2: Counter-Clockwise Rotating Wind\n",
      "\n",
      "Key wind parameters:\n",
      "- Base direction: (0.65, -0.75)\n",
      "- Evolution bias: (-1, 0.0)\n",
      "- Change probability: 1\n",
      "- Perturbation amplitude: 0.2\n"
     ]
    },
    {
     "data": {
      "application/vnd.jupyter.widget-view+json": {
       "model_id": "68ddc01b09714216aeb8d44f5ff8fbbe",
       "version_major": 2,
       "version_minor": 0
      },
      "text/plain": [
       "interactive(children=(IntSlider(value=0, description='Step:', max=99), Output()), _dom_classes=('widget-intera…"
      ]
     },
     "metadata": {},
     "output_type": "display_data"
    }
   ],
   "source": [
    "# Explore the second scenario: Counter-clockwise rotating wind\n",
    "print(\"# Scenario 2: Counter-Clockwise Rotating Wind\\n\")\n",
    "scenario2 = get_scenario('training_2')\n",
    "scenario2.update(viz_params)\n",
    "\n",
    "# Display key wind parameters\n",
    "print(\"Key wind parameters:\")\n",
    "print(f\"- Base direction: {scenario2['wind_init_params']['base_direction']}\")\n",
    "print(f\"- Evolution bias: {scenario2['wind_evol_params']['wind_evolution_bias']}\")\n",
    "print(f\"- Change probability: {scenario2['wind_evol_params']['wind_change_prob']}\")\n",
    "print(f\"- Perturbation amplitude: {scenario2['wind_evol_params']['perturbation_angle_amplitude']}\")\n",
    "\n",
    "# Run simulation\n",
    "results2 = evaluate_agent(\n",
    "    agent=static_agent,\n",
    "    scenario=scenario2,\n",
    "    seeds=FIXED_SEED,\n",
    "    **eval_params\n",
    ")\n",
    "visualize_trajectory(results2, None, with_slider=True)"
   ]
  },
  {
   "cell_type": "code",
   "execution_count": 7,
   "metadata": {},
   "outputs": [
    {
     "name": "stdout",
     "output_type": "stream",
     "text": [
      "# Scenario 3: Oscillating Wind Pattern\n",
      "\n",
      "Key wind parameters:\n",
      "- Base direction: (0.0, -1.0)\n",
      "- Evolution bias: (0.0, 0.0)\n",
      "- Change probability: 0.8\n",
      "- Perturbation amplitude: 0.15\n"
     ]
    },
    {
     "data": {
      "application/vnd.jupyter.widget-view+json": {
       "model_id": "5b45bd5dd92e464994bfb5beded24f7e",
       "version_major": 2,
       "version_minor": 0
      },
      "text/plain": [
       "interactive(children=(IntSlider(value=0, description='Step:', max=99), Output()), _dom_classes=('widget-intera…"
      ]
     },
     "metadata": {},
     "output_type": "display_data"
    }
   ],
   "source": [
    "# Explore the third scenario: Oscillating wind pattern\n",
    "print(\"# Scenario 3: Oscillating Wind Pattern\\n\")\n",
    "scenario3 = get_scenario('training_3')\n",
    "scenario3.update(viz_params)\n",
    "\n",
    "# Display key wind parameters\n",
    "print(\"Key wind parameters:\")\n",
    "print(f\"- Base direction: {scenario3['wind_init_params']['base_direction']}\")\n",
    "print(f\"- Evolution bias: {scenario3['wind_evol_params']['wind_evolution_bias']}\")\n",
    "print(f\"- Change probability: {scenario3['wind_evol_params']['wind_change_prob']}\")\n",
    "print(f\"- Perturbation amplitude: {scenario3['wind_evol_params']['perturbation_angle_amplitude']}\")\n",
    "\n",
    "# Run simulation\n",
    "results3 = evaluate_agent(\n",
    "    agent=static_agent,\n",
    "    scenario=scenario3,\n",
    "    seeds=FIXED_SEED,\n",
    "    **eval_params\n",
    ")\n",
    "visualize_trajectory(results3, None, with_slider=True)"
   ]
  },
  {
   "cell_type": "markdown",
   "metadata": {},
   "source": [
    "## Custom Wind Evolution Scenario\n",
    "\n",
    "Now let's create our own custom wind scenario to explore the effects of different parameter values.\n",
    "You can modify these parameters to see how they affect wind patterns:\n",
    "\n",
    "1. **Base Wind Parameters**:\n",
    "   - `base_speed`: Controls overall wind strength\n",
    "   - `base_direction`: Initial wind direction vector\n",
    "   - `pattern_strength`: How much the wind direction varies across the grid\n",
    "   - `strength_variation`: How much the wind strength varies across the grid\n",
    "\n",
    "2. **Evolution Parameters**:\n",
    "   - `wind_change_prob`: Probability of wind changing each step (1.0 = change every step)\n",
    "   - `perturbation_angle_amplitude`: Controls how much wind direction changes\n",
    "   - `perturbation_strength_amplitude`: Controls how much wind strength changes\n",
    "   - `wind_evolution_bias`: Direction bias for wind changes (x,y) vector\n",
    "   - `bias_strength`: How strongly to apply the bias"
   ]
  },
  {
   "cell_type": "code",
   "execution_count": 8,
   "metadata": {},
   "outputs": [
    {
     "name": "stdout",
     "output_type": "stream",
     "text": [
      "# Custom Wind Scenario\n",
      "\n",
      "Key wind parameters:\n",
      "- Base direction: (0.5, -0.5)\n",
      "- Evolution bias: (0.3, 0.3)\n",
      "- Bias strength: 0.2\n",
      "- Change probability: 1.0\n",
      "- Angle perturbation: 0.15\n",
      "- Strength perturbation: 0.2\n"
     ]
    },
    {
     "data": {
      "application/vnd.jupyter.widget-view+json": {
       "model_id": "3ca150045e3e45e7a8fb90f0746daa4a",
       "version_major": 2,
       "version_minor": 0
      },
      "text/plain": [
       "interactive(children=(IntSlider(value=0, description='Step:', max=199), Output()), _dom_classes=('widget-inter…"
      ]
     },
     "metadata": {},
     "output_type": "display_data"
    }
   ],
   "source": [
    "# Define custom scenario - experiment by changing these values!\n",
    "custom_scenario = {\n",
    "    'wind_init_params': {\n",
    "        'base_speed': 4.0,\n",
    "        'base_direction': (0.5, -0.5),  # Try different direction vectors\n",
    "        'pattern_scale': 32,\n",
    "        'pattern_strength': 0.3,  # Try 0.1 to 0.5\n",
    "        'strength_variation': 0.4,  # Try 0.2 to 0.6\n",
    "        'noise': 0.1\n",
    "    },\n",
    "    'wind_evol_params': {\n",
    "        'wind_change_prob': 1.0,  # Try 0.1 to 1.0\n",
    "        'pattern_scale': 64,\n",
    "        'perturbation_angle_amplitude': 0.15,  # Try 0.05 to 0.3\n",
    "        'perturbation_strength_amplitude': 0.2,  # Try 0.1 to 0.4\n",
    "        'wind_evolution_bias': (0.3, 0.3),  # Try different vectors\n",
    "        'bias_strength': 0.2  # Try 0.0 to 0.5\n",
    "    },\n",
    "    'env_params': {\n",
    "        'wind_grid_density': 25,\n",
    "        'wind_arrow_scale': 80\n",
    "    }\n",
    "}\n",
    "\n",
    "# Run longer simulation for custom scenario\n",
    "print(\"# Custom Wind Scenario\\n\")\n",
    "print(\"Key wind parameters:\")\n",
    "print(f\"- Base direction: {custom_scenario['wind_init_params']['base_direction']}\")\n",
    "print(f\"- Evolution bias: {custom_scenario['wind_evol_params']['wind_evolution_bias']}\")\n",
    "print(f\"- Bias strength: {custom_scenario['wind_evol_params']['bias_strength']}\")\n",
    "print(f\"- Change probability: {custom_scenario['wind_evol_params']['wind_change_prob']}\")\n",
    "print(f\"- Angle perturbation: {custom_scenario['wind_evol_params']['perturbation_angle_amplitude']}\")\n",
    "print(f\"- Strength perturbation: {custom_scenario['wind_evol_params']['perturbation_strength_amplitude']}\")\n",
    "\n",
    "# Run custom simulation for 200 steps\n",
    "custom_results = evaluate_agent(\n",
    "    agent=static_agent,\n",
    "    scenario=custom_scenario,\n",
    "    seeds=FIXED_SEED,\n",
    "    max_horizon=200,  # Longer simulation\n",
    "    verbose=False,\n",
    "    render=True,\n",
    "    full_trajectory=True\n",
    ")\n",
    "visualize_trajectory(custom_results, None, with_slider=True)"
   ]
  },
  {
   "cell_type": "markdown",
   "metadata": {},
   "source": [
    "## Observations and Conclusions\n",
    "\n",
    "From these visualizations, we can observe:\n",
    "\n",
    "1. Wind direction and strength change continuously according to the defined parameters\n",
    "2. Bias parameters create a consistent trend in the evolution (clockwise, counter-clockwise, etc.)\n",
    "3. Different scenarios create different sailing challenges\n",
    "4. The seed ensures reproducible wind patterns for fair comparisons\n",
    "\n",
    "Try experimenting with the custom scenario parameters to create different wind patterns, from gentle breezes to stormy conditions with rapidly changing directions!"
   ]
  }
 ],
 "metadata": {
  "kernelspec": {
   "display_name": "Python 3",
   "language": "python",
   "name": "python3"
  },
  "language_info": {
   "codemirror_mode": {
    "name": "ipython",
    "version": 3
   },
   "file_extension": ".py",
   "mimetype": "text/x-python",
   "name": "python",
   "nbconvert_exporter": "python",
   "pygments_lexer": "ipython3",
   "version": "3.9.6"
  }
 },
 "nbformat": 4,
 "nbformat_minor": 2
}
