{
 "cells": [
  {
   "cell_type": "markdown",
   "metadata": {},
   "source": [
    "# Testing Agent Interfaces in the Sailing Environment\n",
    "\n",
    "This notebook demonstrates how to use and evaluate different agents in the sailing environment. We'll explore three types of agents:\n",
    "1. **Random Agent**: Makes random decisions (baseline)\n",
    "2. **North Agent**: Always tries to move north\n",
    "3. **Smart Agent**: Uses sailing physics to make informed decisions\n",
    "\n",
    "We'll test these agents in a simple scenario and compare their performance."
   ]
  },
  {
   "cell_type": "code",
   "execution_count": 1,
   "metadata": {},
   "outputs": [],
   "source": [
    "# Cell 1: Imports and Setup\n",
    "import sys\n",
    "import os\n",
    "import numpy as np\n",
    "import matplotlib.pyplot as plt\n",
    "from IPython.display import display\n",
    "\n",
    "# Add the src directory to the path\n",
    "sys.path.append(os.path.abspath('../src'))\n",
    "sys.path.append(os.path.abspath('..'))  # Add project root to path\n",
    "\n",
    "# Import the environment and evaluation modules\n",
    "from env_sailing import SailingEnv\n",
    "from evaluation import evaluate_agent, visualize_trajectory\n",
    "from agents.agent_north import AgentNorth\n",
    "from agents.agent_random import AgentRandom  # Corrected import name\n",
    "from agents.agent_smart import AgentSmart\n",
    "from agents.base_agent import BaseAgent\n",
    "\n",
    "# Import scenarios\n",
    "from scenarios import get_scenario, SCENARIOS"
   ]
  },
  {
   "cell_type": "markdown",
   "metadata": {},
   "source": [
    "## Part 1: Testing Individual Agents\n",
    "Let's start by testing each agent individually to understand their behavior."
   ]
  },
  {
   "cell_type": "code",
   "execution_count": 2,
   "metadata": {},
   "outputs": [],
   "source": [
    "# Cell 2: Setup Simple Test Scenario with Visualization Parameters\n",
    "# Get the simple test scenario\n",
    "scenario = get_scenario('simple_test')\n",
    "\n",
    "# Add visualization parameters to the scenario\n",
    "viz_params = {\n",
    "    'env_params': {\n",
    "        'wind_grid_density': 25,    # Fewer arrows = clearer visualization\n",
    "        'wind_arrow_scale': 80,     # Larger value = smaller arrows\n",
    "        'render_mode': \"rgb_array\"\n",
    "    }\n",
    "}\n",
    "scenario.update(viz_params)"
   ]
  },
  {
   "cell_type": "markdown",
   "metadata": {},
   "source": [
    "### Random Agent Test\n",
    "First, let's test the random agent in a single episode. This will help us understand the baseline performance and visualize how a random policy behaves in the environment."
   ]
  },
  {
   "cell_type": "code",
   "execution_count": 3,
   "metadata": {},
   "outputs": [
    {
     "data": {
      "application/vnd.jupyter.widget-view+json": {
       "model_id": "6b63c244684d4d2196e4cee5d25a1811",
       "version_major": 2,
       "version_minor": 0
      },
      "text/plain": [
       "Evaluating seeds:   0%|          | 0/1 [00:00<?, ?it/s]"
      ]
     },
     "metadata": {},
     "output_type": "display_data"
    },
    {
     "name": "stderr",
     "output_type": "stream",
     "text": [
      "/Users/t.rahier/code_project_v0/Sailing_project_v1/src/env_sailing.py:537: RuntimeWarning: invalid value encountered in divide\n",
      "  direction_normalized = direction / np.linalg.norm(direction)\n"
     ]
    },
    {
     "name": "stdout",
     "output_type": "stream",
     "text": [
      "Random Agent Results:\n",
      "Total Reward: 0.00 ± 0.00\n",
      "Success Rate: 0.00%\n",
      "Average Steps: 100.0 ± 0.0\n"
     ]
    },
    {
     "data": {
      "application/vnd.jupyter.widget-view+json": {
       "model_id": "81b5a4db2aab4e5b89de8a26e2df4062",
       "version_major": 2,
       "version_minor": 0
      },
      "text/plain": [
       "interactive(children=(IntSlider(value=0, description='Step:', max=99), Output()), _dom_classes=('widget-intera…"
      ]
     },
     "metadata": {},
     "output_type": "display_data"
    }
   ],
   "source": [
    "# Cell 3: Test Random Agent\n",
    "# Create and test random agent\n",
    "random_agent = AgentRandom()  # Corrected class name\n",
    "results = evaluate_agent(\n",
    "    agent=random_agent,\n",
    "    scenario=scenario,\n",
    "    seeds=42,  # Single seed for reproducibility\n",
    "    max_horizon=100,  # Using shorter horizon\n",
    "    verbose=True,\n",
    "    render=True,\n",
    "    full_trajectory=True  # Enable full trajectory for visualization\n",
    ")\n",
    "\n",
    "# Display results\n",
    "print(\"Random Agent Results:\")\n",
    "print(f\"Total Reward: {results['mean_reward']:.2f} ± {results['std_reward']:.2f}\")\n",
    "print(f\"Success Rate: {results['success_rate']:.2%}\")\n",
    "print(f\"Average Steps: {results['mean_steps']:.1f} ± {results['std_steps']:.1f}\")\n",
    "\n",
    "# Visualize trajectory with slider\n",
    "visualize_trajectory(results, None, with_slider=True)"
   ]
  },
  {
   "cell_type": "markdown",
   "metadata": {},
   "source": [
    "### Multiple Seeds Evaluation\n",
    "To get a more robust evaluation of the random agent's performance, let's test it with multiple random seeds. This gives us a better understanding of its average behavior."
   ]
  },
  {
   "cell_type": "code",
   "execution_count": 4,
   "metadata": {},
   "outputs": [
    {
     "name": "stdout",
     "output_type": "stream",
     "text": [
      "Testing random agent with multiple seeds...\n"
     ]
    },
    {
     "data": {
      "application/vnd.jupyter.widget-view+json": {
       "model_id": "3f0a3866f60e4bef8f10a2344d8fe91d",
       "version_major": 2,
       "version_minor": 0
      },
      "text/plain": [
       "Evaluating seeds:   0%|          | 0/5 [00:00<?, ?it/s]"
      ]
     },
     "metadata": {},
     "output_type": "display_data"
    },
    {
     "name": "stdout",
     "output_type": "stream",
     "text": [
      "\n",
      "Aggregate Results:\n",
      "Mean Reward: 0.00 ± 0.00\n",
      "Success Rate: 0.00%\n",
      "Average Steps: 1000.0 ± 0.0\n"
     ]
    }
   ],
   "source": [
    "# Cell 4: Test Random Agent with Multiple Seeds\n",
    "print(\"Testing random agent with multiple seeds...\")\n",
    "results = evaluate_agent(\n",
    "    agent=random_agent,\n",
    "    scenario=scenario,\n",
    "    seeds=[42, 43, 44, 45, 46],  # Multiple seeds\n",
    "    max_horizon=1000,\n",
    "    verbose=True,\n",
    "    render=False  # No rendering needed for multiple seeds\n",
    ")\n",
    "\n",
    "# Display aggregate results\n",
    "print(\"\\nAggregate Results:\")\n",
    "print(f\"Mean Reward: {results['mean_reward']:.2f} ± {results['std_reward']:.2f}\")\n",
    "print(f\"Success Rate: {results['success_rate']:.2%}\")\n",
    "print(f\"Average Steps: {results['mean_steps']:.1f} ± {results['std_steps']:.1f}\")"
   ]
  },
  {
   "cell_type": "markdown",
   "metadata": {},
   "source": [
    "### North Agent Test\n",
    "Now let's test the North Agent, which always tries to move northward. This is a simple heuristic strategy that might work well when the goal is north of the starting position."
   ]
  },
  {
   "cell_type": "code",
   "execution_count": 5,
   "metadata": {},
   "outputs": [
    {
     "name": "stdout",
     "output_type": "stream",
     "text": [
      "Testing NorthAgent...\n"
     ]
    },
    {
     "data": {
      "application/vnd.jupyter.widget-view+json": {
       "model_id": "79c35b8cf1eb4dcf8578681a9ba82358",
       "version_major": 2,
       "version_minor": 0
      },
      "text/plain": [
       "Evaluating seeds:   0%|          | 0/1 [00:00<?, ?it/s]"
      ]
     },
     "metadata": {},
     "output_type": "display_data"
    },
    {
     "name": "stdout",
     "output_type": "stream",
     "text": [
      "\n",
      "NorthAgent Results:\n",
      "Total Reward: 0.00 ± 0.00\n",
      "Success Rate: 0.00%\n",
      "Average Steps: 100.0 ± 0.0\n"
     ]
    },
    {
     "data": {
      "application/vnd.jupyter.widget-view+json": {
       "model_id": "87338217865948e390b78befd50e45b3",
       "version_major": 2,
       "version_minor": 0
      },
      "text/plain": [
       "interactive(children=(IntSlider(value=0, description='Step:', max=99), Output()), _dom_classes=('widget-intera…"
      ]
     },
     "metadata": {},
     "output_type": "display_data"
    }
   ],
   "source": [
    "# Cell 5: Test North Agent\n",
    "print(\"Testing NorthAgent...\")\n",
    "north_agent = AgentNorth()\n",
    "north_results = evaluate_agent(\n",
    "    agent=north_agent,\n",
    "    scenario=scenario,\n",
    "    seeds=42,\n",
    "    max_horizon=100,\n",
    "    verbose=True,\n",
    "    render=True,\n",
    "    full_trajectory=True\n",
    ")\n",
    "\n",
    "# Display results\n",
    "print(\"\\nNorthAgent Results:\")\n",
    "print(f\"Total Reward: {north_results['mean_reward']:.2f} ± {north_results['std_reward']:.2f}\")\n",
    "print(f\"Success Rate: {north_results['success_rate']:.2%}\")\n",
    "print(f\"Average Steps: {north_results['mean_steps']:.1f} ± {north_results['std_steps']:.1f}\")\n",
    "\n",
    "# Visualize trajectory\n",
    "visualize_trajectory(north_results, None, with_slider=True)"
   ]
  },
  {
   "cell_type": "markdown",
   "metadata": {},
   "source": [
    "### Smart Agent Test\n",
    "Finally, let's test the Smart Agent, which uses sailing physics to make informed decisions about movement direction."
   ]
  },
  {
   "cell_type": "code",
   "execution_count": 6,
   "metadata": {},
   "outputs": [
    {
     "name": "stdout",
     "output_type": "stream",
     "text": [
      "Testing SmartAgent...\n"
     ]
    },
    {
     "data": {
      "application/vnd.jupyter.widget-view+json": {
       "model_id": "2776e3dd1b1540359e34ee7a09a8c49f",
       "version_major": 2,
       "version_minor": 0
      },
      "text/plain": [
       "Evaluating seeds:   0%|          | 0/1 [00:00<?, ?it/s]"
      ]
     },
     "metadata": {},
     "output_type": "display_data"
    },
    {
     "name": "stdout",
     "output_type": "stream",
     "text": [
      "\n",
      "SmartAgent Results:\n",
      "Total Reward: 62.35 ± 0.00\n",
      "Success Rate: 0.00%\n",
      "Average Steps: 48.0 ± 0.0\n"
     ]
    },
    {
     "data": {
      "application/vnd.jupyter.widget-view+json": {
       "model_id": "799850947f944350966ab5df3dd03aa8",
       "version_major": 2,
       "version_minor": 0
      },
      "text/plain": [
       "interactive(children=(IntSlider(value=0, description='Step:', max=47), Output()), _dom_classes=('widget-intera…"
      ]
     },
     "metadata": {},
     "output_type": "display_data"
    }
   ],
   "source": [
    "# Cell 6: Test Smart Agent\n",
    "print(\"Testing SmartAgent...\")\n",
    "smart_agent = AgentSmart()\n",
    "smart_results = evaluate_agent(\n",
    "    agent=smart_agent,\n",
    "    scenario=scenario,\n",
    "    seeds=42,\n",
    "    max_horizon=100,\n",
    "    verbose=True,\n",
    "    render=True,\n",
    "    full_trajectory=True\n",
    ")\n",
    "\n",
    "# Display results\n",
    "print(\"\\nSmartAgent Results:\")\n",
    "print(f\"Total Reward: {smart_results['mean_reward']:.2f} ± {smart_results['std_reward']:.2f}\")\n",
    "print(f\"Success Rate: {smart_results['success_rate']:.2%}\")\n",
    "print(f\"Average Steps: {smart_results['mean_steps']:.1f} ± {smart_results['std_steps']:.1f}\")\n",
    "\n",
    "# Visualize trajectory\n",
    "visualize_trajectory(smart_results, None, with_slider=True)"
   ]
  },
  {
   "cell_type": "markdown",
   "metadata": {},
   "source": [
    "## Part 2: Comparing All Agents\n",
    "Now that we've tested each agent individually, let's compare them all together using multiple seeds for a fair comparison. This will help us understand their relative performance.\n",
    "\n",
    "Key metrics we'll compare:\n",
    "- Mean reward and its standard deviation\n",
    "- Success rate in reaching the goal\n",
    "- Average number of steps taken\n",
    "- Trajectory visualization for seed 42"
   ]
  },
  {
   "cell_type": "code",
   "execution_count": 7,
   "metadata": {},
   "outputs": [
    {
     "name": "stdout",
     "output_type": "stream",
     "text": [
      "Creating agents...\n",
      "\n",
      "Comparing agents with multiple seeds...\n",
      "\n",
      "Evaluating North...\n"
     ]
    },
    {
     "data": {
      "application/vnd.jupyter.widget-view+json": {
       "model_id": "a77de0ff1b434fe7844744c5876c0edf",
       "version_major": 2,
       "version_minor": 0
      },
      "text/plain": [
       "Evaluating seeds:   0%|          | 0/5 [00:00<?, ?it/s]"
      ]
     },
     "metadata": {},
     "output_type": "display_data"
    },
    {
     "name": "stdout",
     "output_type": "stream",
     "text": [
      "\n",
      "North Aggregate Results:\n",
      "Mean Reward: 10.34 ± 4.06\n",
      "Success Rate: 0.00%\n",
      "Average Steps: 236.2 ± 45.8\n",
      "\n",
      "Evaluating Smart...\n"
     ]
    },
    {
     "data": {
      "application/vnd.jupyter.widget-view+json": {
       "model_id": "de9ac6ec068543f88c9102abf9796a25",
       "version_major": 2,
       "version_minor": 0
      },
      "text/plain": [
       "Evaluating seeds:   0%|          | 0/5 [00:00<?, ?it/s]"
      ]
     },
     "metadata": {},
     "output_type": "display_data"
    },
    {
     "name": "stdout",
     "output_type": "stream",
     "text": [
      "\n",
      "Smart Aggregate Results:\n",
      "Mean Reward: 60.52 ± 1.50\n",
      "Success Rate: 0.00%\n",
      "Average Steps: 51.0 ± 2.4\n",
      "\n",
      "Evaluating Random...\n"
     ]
    },
    {
     "data": {
      "application/vnd.jupyter.widget-view+json": {
       "model_id": "3d87c546fac84663a75ee7c5b65efe75",
       "version_major": 2,
       "version_minor": 0
      },
      "text/plain": [
       "Evaluating seeds:   0%|          | 0/5 [00:00<?, ?it/s]"
      ]
     },
     "metadata": {},
     "output_type": "display_data"
    },
    {
     "name": "stdout",
     "output_type": "stream",
     "text": [
      "\n",
      "Random Aggregate Results:\n",
      "Mean Reward: 0.00 ± 0.00\n",
      "Success Rate: 0.00%\n",
      "Average Steps: 1000.0 ± 0.0\n",
      "\n",
      "Visualizing North trajectory (seed 42)...\n"
     ]
    },
    {
     "data": {
      "application/vnd.jupyter.widget-view+json": {
       "model_id": "c2687917c7204ad9ae3404e46d5fd077",
       "version_major": 2,
       "version_minor": 0
      },
      "text/plain": [
       "interactive(children=(IntSlider(value=0, description='Step:', max=190), Output()), _dom_classes=('widget-inter…"
      ]
     },
     "metadata": {},
     "output_type": "display_data"
    },
    {
     "name": "stdout",
     "output_type": "stream",
     "text": [
      "\n",
      "Visualizing Smart trajectory (seed 42)...\n"
     ]
    },
    {
     "data": {
      "application/vnd.jupyter.widget-view+json": {
       "model_id": "5ffab8f07ad2456cb6a40b20d17f5553",
       "version_major": 2,
       "version_minor": 0
      },
      "text/plain": [
       "interactive(children=(IntSlider(value=0, description='Step:', max=46), Output()), _dom_classes=('widget-intera…"
      ]
     },
     "metadata": {},
     "output_type": "display_data"
    },
    {
     "name": "stdout",
     "output_type": "stream",
     "text": [
      "\n",
      "Visualizing Random trajectory (seed 42)...\n"
     ]
    },
    {
     "data": {
      "application/vnd.jupyter.widget-view+json": {
       "model_id": "fdc1628f754a492080379264ef903d1d",
       "version_major": 2,
       "version_minor": 0
      },
      "text/plain": [
       "interactive(children=(IntSlider(value=0, description='Step:', max=999), Output()), _dom_classes=('widget-inter…"
      ]
     },
     "metadata": {},
     "output_type": "display_data"
    }
   ],
   "source": [
    "# Cell 7: Compare All Agents\n",
    "# Create different agents\n",
    "print(\"Creating agents...\")\n",
    "agent_north = AgentNorth()\n",
    "agent_smart = AgentSmart()\n",
    "agent_random = AgentRandom()  # Corrected class name\n",
    "\n",
    "# Create a dictionary of agents\n",
    "agents = {\n",
    "    'North': agent_north,\n",
    "    'Smart': agent_smart,\n",
    "    'Random': agent_random\n",
    "}\n",
    "\n",
    "print(\"\\nComparing agents with multiple seeds...\")\n",
    "seeds = [42, 43, 44, 45, 46]  # Test with 5 different seeds\n",
    "max_horizon = 1000  # Give agents enough time to reach the goal\n",
    "\n",
    "# Store results for each agent\n",
    "all_results = {}\n",
    "\n",
    "for agent_name, agent in agents.items():\n",
    "    print(f\"\\nEvaluating {agent_name}...\")\n",
    "    results = evaluate_agent(\n",
    "        agent=agent,\n",
    "        scenario=scenario,\n",
    "        seeds=seeds,\n",
    "        max_horizon=max_horizon,\n",
    "        verbose=True,\n",
    "        render=False  # No need to render for multiple seeds\n",
    "    )\n",
    "    all_results[agent_name] = results\n",
    "    \n",
    "    # Print aggregate results for this agent\n",
    "    print(f\"\\n{agent_name} Aggregate Results:\")\n",
    "    print(f\"Mean Reward: {results['mean_reward']:.2f} ± {results['std_reward']:.2f}\")\n",
    "    print(f\"Success Rate: {results['success_rate']:.2%}\")\n",
    "    print(f\"Average Steps: {results['mean_steps']:.1f} ± {results['std_steps']:.1f}\")\n",
    "\n",
    "# Visualize trajectories for one seed\n",
    "for agent_name, agent in agents.items():\n",
    "    print(f\"\\nVisualizing {agent_name} trajectory (seed 42)...\")\n",
    "    results = evaluate_agent(\n",
    "        agent=agent,\n",
    "        scenario=scenario,\n",
    "        seeds=42,\n",
    "        max_horizon=max_horizon,\n",
    "        verbose=False,\n",
    "        render=True,\n",
    "        full_trajectory=True\n",
    "    )\n",
    "    visualize_trajectory(results, None, with_slider=True)"
   ]
  },
  {
   "cell_type": "markdown",
   "metadata": {},
   "source": [
    "## Conclusion\n",
    "\n",
    "This notebook demonstrated how to:\n",
    "1. Create and test different types of agents in the sailing environment\n",
    "2. Evaluate agent performance using single and multiple seeds\n",
    "3. Visualize agent trajectories using an interactive slider\n",
    "4. Compare different agents' performance using various metrics\n",
    "\n",
    "Key takeaways:\n",
    "- The Random Agent serves as a baseline but performs poorly as expected\n",
    "- The North Agent shows how a simple heuristic can sometimes be effective\n",
    "- The Smart Agent demonstrates how using domain knowledge (sailing physics) can improve performance\n",
    "\n",
    "Next steps:\n",
    "- Try the agents in different scenarios (e.g., with varying wind patterns)\n",
    "- Modify the Smart Agent to improve its performance\n",
    "- Create your own agent by implementing the BaseAgent interface"
   ]
  }
 ],
 "metadata": {
  "kernelspec": {
   "display_name": "Python 3",
   "language": "python",
   "name": "python3"
  },
  "language_info": {
   "codemirror_mode": {
    "name": "ipython",
    "version": 3
   },
   "file_extension": ".py",
   "mimetype": "text/x-python",
   "name": "python",
   "nbconvert_exporter": "python",
   "pygments_lexer": "ipython3",
   "version": "3.9.6"
  }
 },
 "nbformat": 4,
 "nbformat_minor": 2
}
